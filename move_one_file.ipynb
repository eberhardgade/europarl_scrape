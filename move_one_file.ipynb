{
 "cells": [
  {
   "cell_type": "code",
   "execution_count": 1,
   "id": "da0c8ccc-6db8-4300-a3da-128ff9539634",
   "metadata": {},
   "outputs": [],
   "source": [
    "import shutil\n",
    "import os"
   ]
  },
  {
   "cell_type": "code",
   "execution_count": null,
   "id": "077202d9-1d31-47e3-a48e-dc002c3eba66",
   "metadata": {},
   "outputs": [],
   "source": []
  },
  {
   "cell_type": "code",
   "execution_count": 4,
   "id": "684674d3-4b4e-4e18-920d-1f5d99e30438",
   "metadata": {},
   "outputs": [],
   "source": [
    "for folder in os.listdir('html_raw'):\n",
    "\n",
    "    newpath = \"./2009-01-12/{}/\".format(folder)\n",
    "    if not os.path.exists(newpath):\n",
    "        os.makedirs(newpath)\n",
    "\n",
    "    shutil.move(\"./html_raw/{}/6-2009-01-12_{}.html\".format(folder, folder), \"./2009-01-12/{}/6-2009-01-12_{}.html\".format(folder, folder))"
   ]
  },
  {
   "cell_type": "code",
   "execution_count": null,
   "id": "f6eef7f1-b322-4053-a885-f2f38a3bd0b5",
   "metadata": {},
   "outputs": [],
   "source": []
  }
 ],
 "metadata": {
  "kernelspec": {
   "display_name": "Python 3 (ipykernel)",
   "language": "python",
   "name": "python3"
  },
  "language_info": {
   "codemirror_mode": {
    "name": "ipython",
    "version": 3
   },
   "file_extension": ".py",
   "mimetype": "text/x-python",
   "name": "python",
   "nbconvert_exporter": "python",
   "pygments_lexer": "ipython3",
   "version": "3.11.7"
  }
 },
 "nbformat": 4,
 "nbformat_minor": 5
}
